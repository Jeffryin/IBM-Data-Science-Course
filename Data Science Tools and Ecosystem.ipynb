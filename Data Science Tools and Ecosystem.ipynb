{
 "cells": [
  {
   "cell_type": "markdown",
   "id": "ca17c41c-0859-4ef2-a535-3e4875e36c36",
   "metadata": {},
   "source": [
    "# Data Science Tools and Ecosystem"
   ]
  },
  {
   "cell_type": "markdown",
   "id": "adf2f6aa-f87c-4e0e-b0ec-19f79d6917fb",
   "metadata": {},
   "source": [
    "![2-title.png](C:\\Users\\jifsk\\exercise1.PNG)"
   ]
  },
  {
   "cell_type": "markdown",
   "id": "0875f929-5417-40a1-85f3-4a82c6956e5e",
   "metadata": {},
   "source": [
    "In this notebook, Data Science Tools and Ecosystem are summarized."
   ]
  },
  {
   "cell_type": "markdown",
   "id": "0b1294d9-c9c2-4751-8868-2f1e4ed23e85",
   "metadata": {},
   "source": [
    "***Objectives:***\n",
    "- List popular languages for Data Science\n",
    "- List commonly used libraries for Data Science\n",
    "- Data Science Tools\n",
    "- Arithmetic expressions\n",
    "- Minutes to Hours conversion"
   ]
  },
  {
   "cell_type": "markdown",
   "id": "0914df1c-3880-46c5-9f1c-daf5c3930a22",
   "metadata": {},
   "source": [
    "Exercise-10: ![10-objectives.png](C:\\Users\\jifsk\\exercise10.png)"
   ]
  },
  {
   "cell_type": "markdown",
   "id": "c666b30c-a05d-4b31-a3ed-93b7cd33cfa4",
   "metadata": {},
   "source": [
    "![3-intro.png](C:\\Users\\jifsk\\exercise2.png)"
   ]
  },
  {
   "cell_type": "markdown",
   "id": "14f6b41b-7894-45de-9298-c7691079fd0d",
   "metadata": {},
   "source": [
    "Some of the popular languages that Data Scientists use are: \n",
    "1. Python\n",
    "2. R\n",
    "3. SQL"
   ]
  },
  {
   "cell_type": "markdown",
   "id": "ad68d728-90d4-4ce7-9d18-b4d1093a49dc",
   "metadata": {},
   "source": [
    "![4-dslanguages.png](C:\\Users\\jifsk\\exercise4.png)"
   ]
  },
  {
   "cell_type": "markdown",
   "id": "43535fb0-89d4-43a4-aa1e-b8d6b56618b9",
   "metadata": {},
   "source": [
    "Some of the commonly used libraries used by Data Scientists include: \n",
    "1. NumPy\n",
    "2. Pandas\n",
    "3. MatPlotLib\n",
    "4. Keras\n",
    "5. Tensorflow"
   ]
  },
  {
   "cell_type": "markdown",
   "id": "858f610b-cc1e-463b-8c41-f5b70a3e85c9",
   "metadata": {},
   "source": [
    "![5-dslibraries.png](C:\\Users\\jifsk\\exercise5.png)"
   ]
  },
  {
   "cell_type": "markdown",
   "id": "2d301295-d0bd-44d4-aeb0-af94a3475d10",
   "metadata": {},
   "source": [
    "| Data Science Tools         |\n",
    "|----------------------------|\n",
    "| Jupyter Notebook           |\n",
    "| RStudio                    |\n",
    "| Apache Zeppelin            |\n"
   ]
  },
  {
   "cell_type": "markdown",
   "id": "cef63d11-f6b9-4dfa-ac4c-a38162899c09",
   "metadata": {},
   "source": [
    "Exercise-6: ![6-dstools.png](C:\\Users\\jifsk\\exercise6.png)"
   ]
  },
  {
   "cell_type": "markdown",
   "id": "0fec1ac7-f8cc-4272-9995-e7ba34a2ce9a",
   "metadata": {},
   "source": [
    "### Below are a few examples of evaluating arithmetic expressions in Python"
   ]
  },
  {
   "cell_type": "markdown",
   "id": "67086a5a-7c60-49f6-8d87-225c35ac7dbd",
   "metadata": {},
   "source": [
    "Exercise-7: ![7-introarithmetic.png](C:\\Users\\jifsk\\exercise7.png)"
   ]
  },
  {
   "cell_type": "code",
   "execution_count": 37,
   "id": "44a742bc-25f3-4753-b617-4f6d396d15a3",
   "metadata": {},
   "outputs": [
    {
     "data": {
      "text/plain": [
       "17"
      ]
     },
     "execution_count": 37,
     "metadata": {},
     "output_type": "execute_result"
    }
   ],
   "source": [
    "# This a simple arithmetic expression to multiply then add integers \n",
    "(3*4)+5"
   ]
  },
  {
   "cell_type": "markdown",
   "id": "08639088-2bf6-4dbe-8935-b4d6eb3ecb06",
   "metadata": {},
   "source": [
    "Exercise-8: ![8-miltiplyandaddintegers.png](C:\\Users\\jifsk\\exercise8.png)"
   ]
  },
  {
   "cell_type": "code",
   "execution_count": 41,
   "id": "86784a63-913e-441a-ba9b-e7f0b90123b8",
   "metadata": {},
   "outputs": [
    {
     "data": {
      "text/plain": [
       "3.3333333333333335"
      ]
     },
     "execution_count": 41,
     "metadata": {},
     "output_type": "execute_result"
    }
   ],
   "source": [
    "# This will convert 200 minutes to hours by dividing by 60\n",
    "200/60"
   ]
  },
  {
   "cell_type": "markdown",
   "id": "a052d8fd-12d5-414e-9489-b1c83639880a",
   "metadata": {},
   "source": [
    "Exercise-9: ![9-hourstominutes.png](C:\\Users\\jifsk\\exercise9.png)"
   ]
  },
  {
   "cell_type": "markdown",
   "id": "cb76e4f2-b648-44ff-bab8-a7147094882c",
   "metadata": {},
   "source": [
    "## Author\n",
    "Jeff Ryan Soriano"
   ]
  },
  {
   "cell_type": "markdown",
   "id": "fab3f840-50b0-41fc-9068-d980eb19f8f8",
   "metadata": {},
   "source": [
    "Exercise-11: ![11-authordetails.png](C:\\Users\\jifsk\\exercise11.png)"
   ]
  },
  {
   "cell_type": "code",
   "execution_count": null,
   "id": "9843bfcb-5ae7-40c5-b26d-5e809e39ed5e",
   "metadata": {},
   "outputs": [],
   "source": []
  }
 ],
 "metadata": {
  "kernelspec": {
   "display_name": "Python 3 (ipykernel)",
   "language": "python",
   "name": "python3"
  },
  "language_info": {
   "codemirror_mode": {
    "name": "ipython",
    "version": 3
   },
   "file_extension": ".py",
   "mimetype": "text/x-python",
   "name": "python",
   "nbconvert_exporter": "python",
   "pygments_lexer": "ipython3",
   "version": "3.12.7"
  }
 },
 "nbformat": 4,
 "nbformat_minor": 5
}
